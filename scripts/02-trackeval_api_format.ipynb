{
 "cells": [
  {
   "cell_type": "markdown",
   "metadata": {},
   "source": [
    "# Script to create TrackEval format using API"
   ]
  },
  {
   "cell_type": "markdown",
   "metadata": {},
   "source": [
    "Struture for the data evaluation.\n",
    "\n",
    "<pre>\n",
    "data\n",
    "│\n",
    "├── /gt/\n",
    "│   ├── /mot_challenge/\n",
    "│   │   └── /MOT15-train/\n",
    "│   │       └── /ADL-Rundle-6/\n",
    "│   │           ├── /gt/\n",
    "│   │           │   └── gt.txt\n",
    "│   │           └── seqinfo.ini\n",
    "│   └── ...\n",
    "│\n",
    "└── /trackers/\n",
    "│   ├── /mot_challenge/\n",
    "│   │   └── /MOT15-train/\n",
    "│   │       └── MPNTrack (algorithm name)\n",
    "│   │           └── data\n",
    "│   │               └── ALD-Rundle-6.txt\n",
    "│   └── ...\n",
    "└── ...\n",
    "</pre>"
   ]
  },
  {
   "cell_type": "code",
   "execution_count": 7,
   "metadata": {},
   "outputs": [
    {
     "name": "stdout",
     "output_type": "stream",
     "text": [
      "Created folder: .\\data\\trackers\\mot_challenge\\MOT15-train\\YOLOv11n-SORT\\data\n",
      "Created folder: .\\data\\trackers\\mot_challenge\\MOT15-train\\YOLOv10n-SORT\\data\n",
      "Folder structure and new folders created successfully.\n"
     ]
    }
   ],
   "source": [
    "import os\n",
    "\n",
    "# Define the initial folder structure\n",
    "initial_structure = {\n",
    "    'data': {\n",
    "        'gt': {\n",
    "            'mot_challenge': {\n",
    "                'MOT15-train': {\n",
    "                    'ADL-Rundle-6': {\n",
    "                        'gt': {\n",
    "                            'gt.txt': None  # File\n",
    "                        },\n",
    "                        'seqinfo.ini': None  # File\n",
    "                    }\n",
    "                }\n",
    "            }\n",
    "        },\n",
    "        'trackers': {\n",
    "            'mot_challenge': {\n",
    "                'MOT15-train': {\n",
    "                    'MPNTrack': {\n",
    "                        'data': {\n",
    "                            'ALD-Rundle-6.txt': None  # File\n",
    "                        }\n",
    "                    }\n",
    "                }\n",
    "            }\n",
    "        }\n",
    "    }\n",
    "}\n",
    "\n",
    "# List of names for new folders to be created at the same level as MPNTrack\n",
    "new_folders = ['YOLOv11n-SORT', 'YOLOv10n-SORT']\n",
    "\n",
    "# Function to create directories and files from structure\n",
    "def create_structure(base_path, structure):\n",
    "    for key, value in structure.items():\n",
    "        path = os.path.join(base_path, key)\n",
    "        \n",
    "        if value is None:\n",
    "            # Create an empty file\n",
    "            try:\n",
    "                os.makedirs(os.path.dirname(path), exist_ok=True)  # Ensure parent directories exist\n",
    "                with open(path, 'w') as f:\n",
    "                    pass  # Create the empty file\n",
    "            except PermissionError as e:\n",
    "                print(f\"PermissionError: {e}\")\n",
    "            except Exception as e:\n",
    "                print(f\"An error occurred: {e}\")\n",
    "        else:\n",
    "            # Create directory if the value is a dictionary\n",
    "            os.makedirs(path, exist_ok=True)\n",
    "            create_structure(path, value)\n",
    "\n",
    "# Function to create new folders at the same level as MPNTrack\n",
    "def create_new_folders(base_path, folder_list):\n",
    "    for folder_name in folder_list:\n",
    "        folder_path = os.path.join(base_path, folder_name, \"data\")\n",
    "        try:\n",
    "            os.makedirs(folder_path, exist_ok=True)\n",
    "            print(f\"Created folder: {folder_path}\")\n",
    "        except Exception as e:\n",
    "            print(f\"An error occurred while creating {folder_path}: {e}\")\n",
    "\n",
    "# Base path for the structure\n",
    "base_path = '.'\n",
    "\n",
    "# First, create the initial folder structure\n",
    "create_structure(base_path, initial_structure)\n",
    "\n",
    "# Now, create new folders at the same level as 'MPNTrack'\n",
    "mpntrack_base = os.path.join(base_path, 'data', 'trackers', 'mot_challenge', 'MOT15-train')\n",
    "create_new_folders(mpntrack_base, new_folders)\n",
    "\n",
    "print(\"Folder structure and new folders created successfully.\")"
   ]
  },
  {
   "cell_type": "code",
   "execution_count": null,
   "metadata": {},
   "outputs": [],
   "source": []
  }
 ],
 "metadata": {
  "kernelspec": {
   "display_name": "sam-pinas-dev",
   "language": "python",
   "name": "python3"
  },
  "language_info": {
   "codemirror_mode": {
    "name": "ipython",
    "version": 3
   },
   "file_extension": ".py",
   "mimetype": "text/x-python",
   "name": "python",
   "nbconvert_exporter": "python",
   "pygments_lexer": "ipython3",
   "version": "3.8.18"
  }
 },
 "nbformat": 4,
 "nbformat_minor": 2
}
