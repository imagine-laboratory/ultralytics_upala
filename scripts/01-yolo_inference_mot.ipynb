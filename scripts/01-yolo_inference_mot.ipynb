{
 "cells": [
  {
   "cell_type": "markdown",
   "metadata": {},
   "source": [
    "# Ultralytics YOLO output"
   ]
  },
  {
   "cell_type": "code",
   "execution_count": null,
   "metadata": {},
   "outputs": [],
   "source": [
    "import ultralytics\n",
    "ultralytics.__version__"
   ]
  },
  {
   "cell_type": "code",
   "execution_count": null,
   "metadata": {},
   "outputs": [],
   "source": [
    "import os\n",
    "\n",
    "# Set an environment variable\n",
    "os.environ['YOLO_VERBOSE'] = \"False\"\n",
    "\n",
    "# Access the environment variable\n",
    "print(os.environ['YOLO_VERBOSE'])\n"
   ]
  },
  {
   "cell_type": "code",
   "execution_count": 3,
   "metadata": {},
   "outputs": [],
   "source": [
    "from tqdm import tqdm\n",
    "\n",
    "def process_mot20_results(files_in_directory, model, output_file=\"output_mot.txt\"):\n",
    "    mot_results = []\n",
    "\n",
    "    # Use tqdm to display a progress bar while iterating over frames\n",
    "    for frame in tqdm(files_in_directory, desc=\"Processing frames\"):\n",
    "        results = model([frame])  # Run model on the frame\n",
    "\n",
    "        # Extract the filename and frame number\n",
    "        filename = os.path.basename(frame)\n",
    "        frame_number = int(filename.split('_')[1].split('.')[0])\n",
    "\n",
    "        # Process each result from the model output\n",
    "        for result in results:\n",
    "            boxes = result.boxes  # Boxes object for bounding box outputs\n",
    "            box_data = boxes.xywh  # Get [x_center, y_center, width, height] format\n",
    "            conf = boxes.conf  # Confidence scores\n",
    "            cls = boxes.cls  # Class labels (if needed for IDs)\n",
    "\n",
    "            # Loop through each detected box\n",
    "            for i, (xywh, score) in enumerate(zip(box_data, conf)):\n",
    "                bb_left = xywh[0] - (xywh[2] / 2)  # Convert x_center to bb_left\n",
    "                bb_top = xywh[1] - (xywh[3] / 2)   # Convert y_center to bb_top\n",
    "                bb_width = xywh[2]\n",
    "                bb_height = xywh[3]\n",
    "                obj_id = -1  # Assign a unique ID (or use a tracker to get actual IDs)\n",
    "\n",
    "                class_id = 1\n",
    "                # Format: frame, id, bb_left, bb_top, bb_width, bb_height, conf, -1, -1, -1\n",
    "                # MOT15 frame_number, identity_number, bbox left, bbox_top, bbox_width, bbox_height, confidence, class, visibility\n",
    "                mot_line = f\"{frame_number}, {obj_id}, {bb_left:.2f}, {bb_top:.2f}, {bb_width:.2f}, {bb_height:.2f}, {score:.2f}, {class_id}, 1\"\n",
    "                # MOT15 frame_number, identity_number, bbox left, bbox_top, bbox_width, bbox_height, confidence, x, y, z\n",
    "                # mot_line = f\"{frame_number}, {obj_id}, {bb_left:.2f}, {bb_top:.2f}, {bb_width:.2f}, {bb_height:.2f}, {score:.2f}, -1, -1, -1\"\n",
    "\n",
    "                mot_results.append(mot_line)\n",
    "\n",
    "    # Write results to a .txt file in MOT format\n",
    "    with open(output_file, \"w\") as f:\n",
    "        f.write(\"\\n\".join(mot_results))\n",
    "    print(f\"Results saved to {output_file}\")"
   ]
  },
  {
   "cell_type": "code",
   "execution_count": 4,
   "metadata": {},
   "outputs": [],
   "source": [
    "def save_metrics_to_txt(metrics_dict, filename=\"metrics_results.txt\"):\n",
    "    \"\"\"\n",
    "    Save the given dictionary of metrics to a text file.\n",
    "    \n",
    "    Args:\n",
    "    - metrics_dict (dict): Dictionary containing metric names as keys and their values.\n",
    "    - filename (str): The name of the file to save the metrics. Default is \"metrics_results.txt\".\n",
    "    \"\"\"\n",
    "    with open(filename, \"w\") as f:\n",
    "        for metric, value in metrics_dict.items():\n",
    "            f.write(f\"{metric}: {value}\\n\")\n",
    "    \n",
    "    print(f\"Metrics saved to {filename}\")"
   ]
  },
  {
   "cell_type": "code",
   "execution_count": 5,
   "metadata": {},
   "outputs": [],
   "source": [
    "\n",
    "def process_mot20_results(files_in_directory, model, output_file=\"output_mot.txt\"):\n",
    "    mot_results = []\n",
    "\n",
    "    # Use tqdm to display a progress bar while iterating over frames\n",
    "    for frame in tqdm(files_in_directory, desc=\"Processing frames\"):\n",
    "        results = model([frame])  # Run model on the frame\n",
    "\n",
    "        # Extract the filename and frame number\n",
    "        filename = os.path.basename(frame)\n",
    "        frame_number = int(filename.split('_')[1].split('.')[0])\n",
    "\n",
    "        # Process each result from the model output\n",
    "        for result in results:\n",
    "            boxes = result.boxes  # Boxes object for bounding box outputs\n",
    "            box_data = boxes.xyxy  # Get [x_center, y_center, width, height] format\n",
    "            conf = boxes.conf  # Confidence scores\n",
    "            cls = boxes.cls  # Class labels (if needed for IDs)\n",
    "\n",
    "            # Loop through each detected box\n",
    "            for i, (xyxy, score) in enumerate(zip(box_data, conf)):\n",
    "                bb_left = xyxy[0]  # Convert x_center to bb_left\n",
    "                bb_top = xyxy[1]  # Convert y_center to bb_top\n",
    "                bb_width = xyxy[2]-xyxy[0]\n",
    "                bb_height = xyxy[3]-xyxy[1]\n",
    "                obj_id = -1  # Assign a unique ID (or use a tracker to get actual IDs)\n",
    "\n",
    "                class_id = 1\n",
    "                # Format: frame, id, bb_left, bb_top, bb_width, bb_height, conf, -1, -1, -1\n",
    "                # MOT15 frame_number, identity_number, bbox left, bbox_top, bbox_width, bbox_height, confidence, class, visibility\n",
    "                #mot_line = f\"{frame_number}, {obj_id}, {bb_left:.2f}, {bb_top:.2f}, {bb_width:.2f}, {bb_height:.2f}, {score:.2f}, {class_id}, 1\"\n",
    "                # MOT15 frame_number, identity_number, bbox left, bbox_top, bbox_width, bbox_height, confidence, x, y, z\n",
    "                mot_line = f\"{frame_number}, {obj_id}, {bb_left:.2f}, {bb_top:.2f}, {bb_width:.2f}, {bb_height:.2f}, {score:.2f}, -1, -1, -1\"\n",
    "\n",
    "                mot_results.append(mot_line)\n",
    "\n",
    "    # Write results to a .txt file in MOT format\n",
    "    with open(output_file, \"w\") as f:\n",
    "        f.write(\"\\n\".join(mot_results))\n",
    "    print(f\"Results saved to {output_file}\")"
   ]
  },
  {
   "cell_type": "code",
   "execution_count": 6,
   "metadata": {},
   "outputs": [],
   "source": [
    "from ultralytics import YOLO, RTDETR\n",
    "# Load the weights of the YOLO model\n",
    "model_name = \"yolo11x_DJI_0008_V@fine-tuning\"\n",
    "\n",
    "model = YOLO(f\"C:/Users/dnnxl/Documents/GitHub/drone-sort/weights/{model_name}/best.pt\", verbose=False)\n",
    "#model = RTDETR(f\"C:/Users/dnnxl/Documents/GitHub/drone-sort/weights/{model_name}/best.pt\")"
   ]
  },
  {
   "cell_type": "code",
   "execution_count": 7,
   "metadata": {},
   "outputs": [],
   "source": [
    "import os\n",
    "\n",
    "def list_files(directory):\n",
    "    try:\n",
    "        # List all files in the given directory\n",
    "        files = [f for f in os.listdir(directory) if os.path.isfile(os.path.join(directory, f))]\n",
    "        return files\n",
    "    except Exception as e:\n",
    "        return str(e)  # Return the error message as a string\n",
    "\n",
    "def list_directories(path='.'):\n",
    "    return [d for d in os.listdir(path) if os.path.isdir(os.path.join(path, d))]"
   ]
  },
  {
   "cell_type": "markdown",
   "metadata": {},
   "source": [
    "## Validation"
   ]
  },
  {
   "cell_type": "code",
   "execution_count": 8,
   "metadata": {},
   "outputs": [],
   "source": [
    "video_name = \"DJI_20240308111117_0010_V_1\"\n",
    "\n",
    "# Example usage:\n",
    "directory_path = f\"C:/Users/dnnxl/Documents/GitHub/drone-sort/dataset/{video_name}/valid/images\"\n",
    "\n",
    "files_in_directory = [os.path.join(directory_path, file) for file in list_files(directory_path)]"
   ]
  },
  {
   "cell_type": "code",
   "execution_count": null,
   "metadata": {},
   "outputs": [],
   "source": [
    "run_name = model_name + \"@\" + video_name\n",
    "\n",
    "data_yaml_file = f\"C:/Users/dnnxl/Documents/GitHub/drone-sort/dataset/{video_name}/data.yaml\"\n",
    "#data_yaml_file = \"C:/Users/dnnxl/Documents/GitHub/drone-sort/dataset/DJI_20240308111117_0010_V_2/data.yaml\"\n",
    "#data_yaml_file = \"C:/Users/dnnxl/Documents/GitHub/drone-sort/dataset/DJI_20240308110958_0008_V_1/data.yaml\"\n",
    "#data_yaml_file = \"C:/Users/dnnxl/Documents/GitHub/drone-sort/dataset/DJI_20240308110958_0008_V_2/data.yaml\"\n",
    "\n",
    "validation_results = model.val(\n",
    "    data=data_yaml_file, imgsz=640, batch=16, conf=0.25, iou=0.6, \n",
    "    device=\"cpu\", save_json=True, name=f\"{run_name}\")"
   ]
  },
  {
   "cell_type": "code",
   "execution_count": null,
   "metadata": {},
   "outputs": [],
   "source": [
    "save_metrics_to_txt(validation_results.results_dict, filename=\"./\"+ str(validation_results.save_dir) + \"/output.txt\")"
   ]
  },
  {
   "cell_type": "code",
   "execution_count": null,
   "metadata": {},
   "outputs": [],
   "source": [
    "OUTPATH_MOT_FILES = f'../output/mot_detections/{run_name}'\n",
    "\n",
    "# Create the directory\n",
    "try:\n",
    "    os.makedirs(OUTPATH_MOT_FILES, exist_ok=True)  # Creates intermediate directories if needed\n",
    "    print(f\"Directory created at: {OUTPATH_MOT_FILES}\")\n",
    "except OSError as e:\n",
    "    print(f\"Error creating directory: {e}\")\n",
    "\n",
    "output_mot_file = os.path.join(OUTPATH_MOT_FILES, \"output.txt\")\n",
    "process_mot20_results(files_in_directory, model, output_file=output_mot_file)"
   ]
  },
  {
   "cell_type": "markdown",
   "metadata": {},
   "source": []
  },
  {
   "cell_type": "code",
   "execution_count": 14,
   "metadata": {},
   "outputs": [],
   "source": [
    "video_name = \"DJI_20240308110228_0006_V_2\"\n",
    "\n",
    "# Example usage:\n",
    "directory_path = f\"C:/Users/dnnxl/Documents/GitHub/drone-sort/dataset/{video_name}/valid/images\"\n",
    "\n",
    "files_in_directory = [os.path.join(directory_path, file) for file in list_files(directory_path)]"
   ]
  },
  {
   "cell_type": "code",
   "execution_count": null,
   "metadata": {},
   "outputs": [],
   "source": [
    "video_name = \"DJI_20240308110228_0006_V_2\"\n",
    "run_name = model_name + \"@\" + video_name\n",
    "\n",
    "data_yaml_file = f\"C:/Users/dnnxl/Documents/GitHub/drone-sort/dataset/{video_name}/data.yaml\"\n",
    "#data_yaml_file = \"C:/Users/dnnxl/Documents/GitHub/drone-sort/dataset/DJI_20240308111117_0010_V_2/data.yaml\"\n",
    "#data_yaml_file = \"C:/Users/dnnxl/Documents/GitHub/drone-sort/dataset/DJI_20240308110958_0008_V_1/data.yaml\"\n",
    "#data_yaml_file = \"C:/Users/dnnxl/Documents/GitHub/drone-sort/dataset/DJI_20240308110958_0008_V_2/data.yaml\"\n",
    "\n",
    "validation_results = model.val(\n",
    "    data=data_yaml_file, imgsz=640, batch=16, conf=0.25, iou=0.6, \n",
    "    device=\"cpu\", save_json=True, name=f\"{run_name}\")"
   ]
  },
  {
   "cell_type": "code",
   "execution_count": null,
   "metadata": {},
   "outputs": [],
   "source": [
    "save_metrics_to_txt(validation_results.results_dict, filename=\"./\"+ str(validation_results.save_dir) + \"/output.txt\")"
   ]
  },
  {
   "cell_type": "code",
   "execution_count": null,
   "metadata": {},
   "outputs": [],
   "source": [
    "OUTPATH_MOT_FILES = f'../output/mot_detections/{run_name}'\n",
    "\n",
    "# Create the directory\n",
    "try:\n",
    "    os.makedirs(OUTPATH_MOT_FILES, exist_ok=True)  # Creates intermediate directories if needed\n",
    "    print(f\"Directory created at: {OUTPATH_MOT_FILES}\")\n",
    "except OSError as e:\n",
    "    print(f\"Error creating directory: {e}\")\n",
    "\n",
    "output_mot_file = os.path.join(OUTPATH_MOT_FILES, \"output.txt\")\n",
    "process_mot20_results(files_in_directory, model, output_file=output_mot_file)"
   ]
  },
  {
   "cell_type": "markdown",
   "metadata": {},
   "source": []
  },
  {
   "cell_type": "code",
   "execution_count": 18,
   "metadata": {},
   "outputs": [],
   "source": [
    "video_name = \"DJI_20240308110115_0005_V\"\n",
    "\n",
    "# Example usage:\n",
    "directory_path = f\"C:/Users/dnnxl/Documents/GitHub/drone-sort/dataset/{video_name}/valid/images\"\n",
    "\n",
    "files_in_directory = [os.path.join(directory_path, file) for file in list_files(directory_path)]"
   ]
  },
  {
   "cell_type": "code",
   "execution_count": null,
   "metadata": {},
   "outputs": [],
   "source": [
    "video_name = \"DJI_20240308110115_0005_V\"\n",
    "run_name = model_name + \"@\" + video_name\n",
    "\n",
    "data_yaml_file = f\"C:/Users/dnnxl/Documents/GitHub/drone-sort/dataset/{video_name}/data.yaml\"\n",
    "#data_yaml_file = \"C:/Users/dnnxl/Documents/GitHub/drone-sort/dataset/DJI_20240308111117_0010_V_2/data.yaml\"\n",
    "#data_yaml_file = \"C:/Users/dnnxl/Documents/GitHub/drone-sort/dataset/DJI_20240308110958_0008_V_1/data.yaml\"\n",
    "#data_yaml_file = \"C:/Users/dnnxl/Documents/GitHub/drone-sort/dataset/DJI_20240308110958_0008_V_2/data.yaml\"\n",
    "\n",
    "validation_results = model.val(\n",
    "    data=data_yaml_file, imgsz=640, batch=16, conf=0.25, iou=0.6, \n",
    "    device=\"cpu\", save_json=True, name=f\"{run_name}\")"
   ]
  },
  {
   "cell_type": "code",
   "execution_count": null,
   "metadata": {},
   "outputs": [],
   "source": [
    "save_metrics_to_txt(validation_results.results_dict, filename=\"./\"+ str(validation_results.save_dir) + \"/output.txt\")"
   ]
  },
  {
   "cell_type": "code",
   "execution_count": null,
   "metadata": {},
   "outputs": [],
   "source": [
    "OUTPATH_MOT_FILES = f'../output/mot_detections/{run_name}'\n",
    "\n",
    "# Create the directory\n",
    "try:\n",
    "    os.makedirs(OUTPATH_MOT_FILES, exist_ok=True)  # Creates intermediate directories if needed\n",
    "    print(f\"Directory created at: {OUTPATH_MOT_FILES}\")\n",
    "except OSError as e:\n",
    "    print(f\"Error creating directory: {e}\")\n",
    "\n",
    "output_mot_file = os.path.join(OUTPATH_MOT_FILES, \"output.txt\")\n",
    "process_mot20_results(files_in_directory, model, output_file=output_mot_file)"
   ]
  },
  {
   "cell_type": "markdown",
   "metadata": {},
   "source": []
  },
  {
   "cell_type": "code",
   "execution_count": 22,
   "metadata": {},
   "outputs": [],
   "source": [
    "video_name = \"DJI_20240308110013_0004_V_1\"\n",
    "\n",
    "# Example usage:\n",
    "directory_path = f\"C:/Users/dnnxl/Documents/GitHub/drone-sort/dataset/{video_name}/valid/images\"\n",
    "\n",
    "files_in_directory = [os.path.join(directory_path, file) for file in list_files(directory_path)]"
   ]
  },
  {
   "cell_type": "code",
   "execution_count": null,
   "metadata": {},
   "outputs": [],
   "source": [
    "video_name = \"DJI_20240308110013_0004_V_1\"\n",
    "run_name = model_name + \"@\" + video_name\n",
    "\n",
    "data_yaml_file = f\"C:/Users/dnnxl/Documents/GitHub/drone-sort/dataset/{video_name}/data.yaml\"\n",
    "#data_yaml_file = \"C:/Users/dnnxl/Documents/GitHub/drone-sort/dataset/DJI_20240308111117_0010_V_2/data.yaml\"\n",
    "#data_yaml_file = \"C:/Users/dnnxl/Documents/GitHub/drone-sort/dataset/DJI_20240308110958_0008_V_1/data.yaml\"\n",
    "#data_yaml_file = \"C:/Users/dnnxl/Documents/GitHub/drone-sort/dataset/DJI_20240308110958_0008_V_2/data.yaml\"\n",
    "\n",
    "validation_results = model.val(\n",
    "    data=data_yaml_file, imgsz=640, batch=16, conf=0.25, iou=0.6, \n",
    "    device=\"cpu\", save_json=True, name=f\"{run_name}\")"
   ]
  },
  {
   "cell_type": "code",
   "execution_count": null,
   "metadata": {},
   "outputs": [],
   "source": [
    "save_metrics_to_txt(validation_results.results_dict, filename=\"./\"+ str(validation_results.save_dir) + \"/output.txt\")"
   ]
  },
  {
   "cell_type": "code",
   "execution_count": null,
   "metadata": {},
   "outputs": [],
   "source": [
    "OUTPATH_MOT_FILES = f'../output/mot_detections/{run_name}'\n",
    "\n",
    "# Create the directory\n",
    "try:\n",
    "    os.makedirs(OUTPATH_MOT_FILES, exist_ok=True)  # Creates intermediate directories if needed\n",
    "    print(f\"Directory created at: {OUTPATH_MOT_FILES}\")\n",
    "except OSError as e:\n",
    "    print(f\"Error creating directory: {e}\")\n",
    "\n",
    "output_mot_file = os.path.join(OUTPATH_MOT_FILES, \"output.txt\")\n",
    "process_mot20_results(files_in_directory, model, output_file=output_mot_file)"
   ]
  },
  {
   "cell_type": "markdown",
   "metadata": {},
   "source": []
  },
  {
   "cell_type": "code",
   "execution_count": 26,
   "metadata": {},
   "outputs": [],
   "source": [
    "video_name = \"DJI_20240308110013_0004_V_3\"\n",
    "\n",
    "# Example usage:\n",
    "directory_path = f\"C:/Users/dnnxl/Documents/GitHub/drone-sort/dataset/{video_name}/valid/images\"\n",
    "\n",
    "files_in_directory = [os.path.join(directory_path, file) for file in list_files(directory_path)]"
   ]
  },
  {
   "cell_type": "code",
   "execution_count": null,
   "metadata": {},
   "outputs": [],
   "source": [
    "video_name = \"DJI_20240308110013_0004_V_3\"\n",
    "run_name = model_name + \"@\" + video_name\n",
    "\n",
    "data_yaml_file = f\"C:/Users/dnnxl/Documents/GitHub/drone-sort/dataset/{video_name}/data.yaml\"\n",
    "#data_yaml_file = \"C:/Users/dnnxl/Documents/GitHub/drone-sort/dataset/DJI_20240308111117_0010_V_2/data.yaml\"\n",
    "#data_yaml_file = \"C:/Users/dnnxl/Documents/GitHub/drone-sort/dataset/DJI_20240308110958_0008_V_1/data.yaml\"\n",
    "#data_yaml_file = \"C:/Users/dnnxl/Documents/GitHub/drone-sort/dataset/DJI_20240308110958_0008_V_2/data.yaml\"\n",
    "\n",
    "validation_results = model.val(\n",
    "    data=data_yaml_file, imgsz=640, batch=16, conf=0.25, iou=0.6, \n",
    "    device=\"cpu\", save_json=True, name=f\"{run_name}\")"
   ]
  },
  {
   "cell_type": "code",
   "execution_count": null,
   "metadata": {},
   "outputs": [],
   "source": [
    "save_metrics_to_txt(validation_results.results_dict, filename=\"./\"+ str(validation_results.save_dir) + \"/output.txt\")"
   ]
  },
  {
   "cell_type": "code",
   "execution_count": null,
   "metadata": {},
   "outputs": [],
   "source": [
    "OUTPATH_MOT_FILES = f'../output/mot_detections/{run_name}'\n",
    "\n",
    "# Create the directory\n",
    "try:\n",
    "    os.makedirs(OUTPATH_MOT_FILES, exist_ok=True)  # Creates intermediate directories if needed\n",
    "    print(f\"Directory created at: {OUTPATH_MOT_FILES}\")\n",
    "except OSError as e:\n",
    "    print(f\"Error creating directory: {e}\")\n",
    "\n",
    "output_mot_file = os.path.join(OUTPATH_MOT_FILES, \"output.txt\")\n",
    "process_mot20_results(files_in_directory, model, output_file=output_mot_file)"
   ]
  },
  {
   "cell_type": "code",
   "execution_count": null,
   "metadata": {},
   "outputs": [],
   "source": []
  },
  {
   "cell_type": "code",
   "execution_count": null,
   "metadata": {},
   "outputs": [],
   "source": []
  },
  {
   "cell_type": "code",
   "execution_count": null,
   "metadata": {},
   "outputs": [],
   "source": []
  },
  {
   "cell_type": "code",
   "execution_count": null,
   "metadata": {},
   "outputs": [],
   "source": []
  }
 ],
 "metadata": {
  "kernelspec": {
   "display_name": "sam-pinas-dev",
   "language": "python",
   "name": "python3"
  },
  "language_info": {
   "codemirror_mode": {
    "name": "ipython",
    "version": 3
   },
   "file_extension": ".py",
   "mimetype": "text/x-python",
   "name": "python",
   "nbconvert_exporter": "python",
   "pygments_lexer": "ipython3",
   "version": "3.8.18"
  }
 },
 "nbformat": 4,
 "nbformat_minor": 2
}
