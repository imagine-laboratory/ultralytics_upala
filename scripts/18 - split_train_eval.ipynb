{
 "cells": [
  {
   "cell_type": "code",
   "execution_count": 6,
   "metadata": {},
   "outputs": [
    {
     "name": "stdout",
     "output_type": "stream",
     "text": [
      "Dataset split completed.\n",
      "Train images and labels: 692\n",
      "Validation images and labels: 174\n"
     ]
    }
   ],
   "source": [
    "import os\n",
    "import shutil\n",
    "import random\n",
    "\n",
    "def split_yolo_dataset(images_path, labels_path, output_path, train_ratio=0.8, seed=42):\n",
    "    \"\"\"\n",
    "    Splits a dataset of images and YOLO-format labels into training and validation sets.\n",
    "\n",
    "    Args:\n",
    "        images_path (str): Path to the folder containing image files.\n",
    "        labels_path (str): Path to the folder containing label files.\n",
    "        output_path (str): Path to the output folder where `train` and `val` subfolders will be created.\n",
    "        train_ratio (float): Proportion of data to use for training. The rest goes to validation.\n",
    "        seed (int): Random seed for reproducibility.\n",
    "    \"\"\"\n",
    "    # Ensure reproducibility\n",
    "    random.seed(seed)\n",
    "\n",
    "    # Get sorted lists of image and label files\n",
    "    images = sorted([f for f in os.listdir(images_path) if f.endswith(\".png\")])\n",
    "    labels = sorted([f for f in os.listdir(labels_path) if f.endswith(\".txt\")])\n",
    "\n",
    "    # Match images and labels by base filenames\n",
    "    image_basenames = set(os.path.splitext(f)[0] for f in images)\n",
    "    label_basenames = set(os.path.splitext(f)[0] for f in labels)\n",
    "\n",
    "    # Only include pairs where both image and label exist\n",
    "    common_basenames = image_basenames & label_basenames\n",
    "    images = [f for f in images if os.path.splitext(f)[0] in common_basenames]\n",
    "    labels = [f for f in labels if os.path.splitext(f)[0] in common_basenames]\n",
    "\n",
    "    # Pair images and labels to ensure consistency\n",
    "    data_pairs = list(zip(images, labels))\n",
    "\n",
    "    # Shuffle data\n",
    "    random.shuffle(data_pairs)\n",
    "\n",
    "    # Split data into training and validation sets\n",
    "    split_idx = int(len(data_pairs) * train_ratio)\n",
    "    train_pairs = data_pairs[:split_idx]\n",
    "    val_pairs = data_pairs[split_idx:]\n",
    "\n",
    "    # Create output directories\n",
    "    train_images_dir = os.path.join(output_path, \"train\", \"images\")\n",
    "    train_labels_dir = os.path.join(output_path, \"train\", \"labels\")\n",
    "    val_images_dir = os.path.join(output_path, \"val\", \"images\")\n",
    "    val_labels_dir = os.path.join(output_path, \"val\", \"labels\")\n",
    "\n",
    "    for dir_path in [train_images_dir, train_labels_dir, val_images_dir, val_labels_dir]:\n",
    "        os.makedirs(dir_path, exist_ok=True)\n",
    "\n",
    "    # Function to copy files to respective directories\n",
    "    def copy_files(pairs, images_dir, labels_dir):\n",
    "        for img_file, lbl_file in pairs:\n",
    "            shutil.copy2(os.path.join(images_path, img_file), images_dir)\n",
    "            shutil.copy2(os.path.join(labels_path, lbl_file), labels_dir)\n",
    "\n",
    "    # Copy training and validation files\n",
    "    copy_files(train_pairs, train_images_dir, train_labels_dir)\n",
    "    copy_files(val_pairs, val_images_dir, val_labels_dir)\n",
    "\n",
    "    print(f\"Dataset split completed.\\nTrain images and labels: {len(train_pairs)}\\nValidation images and labels: {len(val_pairs)}\")\n",
    "\n",
    "# Example usage\n",
    "images_path = \"H:/Datasets/VideoPineapple/DJI_0007_V_1_and_0004_V_3/full/images\"\n",
    "labels_path = \"H:/Datasets/VideoPineapple/DJI_0007_V_1_and_0004_V_3/full/labels\"\n",
    "output_path = \"H:/Datasets/VideoPineapple/DJI_0007_V_1_and_0004_V_3/\"\n",
    "split_yolo_dataset(images_path, labels_path, output_path, train_ratio=0.8, seed=42)"
   ]
  },
  {
   "cell_type": "code",
   "execution_count": null,
   "metadata": {},
   "outputs": [],
   "source": []
  }
 ],
 "metadata": {
  "kernelspec": {
   "display_name": "sam-pinas-dev",
   "language": "python",
   "name": "python3"
  },
  "language_info": {
   "codemirror_mode": {
    "name": "ipython",
    "version": 3
   },
   "file_extension": ".py",
   "mimetype": "text/x-python",
   "name": "python",
   "nbconvert_exporter": "python",
   "pygments_lexer": "ipython3",
   "version": "3.8.18"
  }
 },
 "nbformat": 4,
 "nbformat_minor": 2
}
