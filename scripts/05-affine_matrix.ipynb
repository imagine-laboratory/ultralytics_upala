{
 "cells": [
  {
   "cell_type": "markdown",
   "metadata": {},
   "source": [
    "The matrix you provided is a \\textbf{2x3 affine transformation matrix} used in OpenCV to perform geometric transformations, such as rotation, scaling, translation, and shearing. This matrix transforms points from one space to another while preserving lines and parallelism.\n",
    "\n",
    "The general form of an affine transformation matrix is:\n",
    "\n",
    "\\[\n",
    "\\mathbf{M} = \n",
    "\\begin{pmatrix}\n",
    "a & b & tx \\\\\n",
    "c & d & ty\n",
    "\\end{pmatrix}\n",
    "\\]\n",
    "\n",
    "Where:\n",
    "\n",
    "\\begin{itemize}\n",
    "    \\item $a$, $b$, $c$, and $d$ affect scaling, rotation, and shearing.\n",
    "    \\item $tx$ and $ty$ represent translation along the x-axis and y-axis, respectively.\n",
    "\\end{itemize}\n",
    "\n",
    "Let's break down the matrix you provided:\n",
    "\n",
    "\\[\n",
    "\\mathbf{M} = \n",
    "\\begin{pmatrix}\n",
    "0.97904168 & 0.07238272 & 19.60909877 \\\\\n",
    "0.096961   & 0.80897027 & 65.1938126\n",
    "\\end{pmatrix}\n",
    "\\]\n",
    "\n",
    "\\subsection*{1. Rotation and Scaling:}\n",
    "\\begin{itemize}\n",
    "    \\item $a = 0.97904168$ and $d = 0.80897027$: These values primarily control \\textbf{scaling} and \\textbf{rotation} along the x- and y-axes. Since these values are close to 1, the transformation applies a slight scaling along both axes (slightly less than 1 for the x-axis and even smaller for the y-axis).\n",
    "    \\item $b = 0.07238272$ and $c = 0.096961$: These elements introduce some \\textbf{shear} or \\textbf{skewing} and possibly contribute to rotation.\n",
    "\\end{itemize}\n",
    "\n",
    "A positive value of $b$ and $c$ introduces a \\textbf{counterclockwise rotation} along with some shear. The matrix shows a small angle of rotation since $b$ and $c$ are relatively small.\n",
    "\n",
    "\\subsection*{2. Translation:}\n",
    "\\begin{itemize}\n",
    "    \\item $tx = 19.60909877$: This translates the image \\textbf{19.61 units along the x-axis}.\n",
    "    \\item $ty = 65.1938126$: This translates the image \\textbf{65.19 units along the y-axis}.\n",
    "\\end{itemize}\n",
    "\n",
    "\\subsection*{Interpretation:}\n",
    "The matrix applies \\textbf{a slight rotation} (because of the small non-zero values of $b$ and $c$) and \\textbf{some scaling} to the image (because $a$ and $d$ are close to 1).\n",
    "\n",
    "The image will also be \\textbf{translated} 19.61 units along the x-axis and 65.19 units along the y-axis.\n",
    "\n",
    "\\subsection*{Conclusion:}\n",
    "This affine transformation matrix represents a combination of:\n",
    "\\begin{itemize}\n",
    "    \\item \\textbf{Small scaling} along both axes.\n",
    "    \\item \\textbf{Slight rotation} (counterclockwise).\n",
    "    \\item \\textbf{Translation} to shift the image by a certain amount along both axes.\n",
    "\\end{itemize}\n"
   ]
  },
  {
   "cell_type": "code",
   "execution_count": 1,
   "metadata": {},
   "outputs": [],
   "source": [
    "import cv2"
   ]
  },
  {
   "cell_type": "code",
   "execution_count": 2,
   "metadata": {},
   "outputs": [],
   "source": [
    "previous=\"../dataset/DJI_20240308111117_0010_V_1/valid/images/frame_00164.png\"\n",
    "after=\"../dataset/DJI_20240308111117_0010_V_1/valid/images/frame_00165.png\""
   ]
  },
  {
   "cell_type": "code",
   "execution_count": 3,
   "metadata": {},
   "outputs": [],
   "source": [
    "frame_previous = cv2.imread(previous)\n",
    "gray_image_previous = cv2.cvtColor(frame_previous, cv2.COLOR_BGR2GRAY)"
   ]
  },
  {
   "cell_type": "code",
   "execution_count": 4,
   "metadata": {},
   "outputs": [],
   "source": [
    "frame_after = cv2.imread(after)\n",
    "gray_image_after = cv2.cvtColor(frame_after, cv2.COLOR_BGR2GRAY)"
   ]
  },
  {
   "cell_type": "code",
   "execution_count": 5,
   "metadata": {},
   "outputs": [],
   "source": [
    "lk_params = dict(winSize=(21, 21), maxLevel=3, criteria=(cv2.TERM_CRITERIA_EPS | cv2.TERM_CRITERIA_COUNT, 30, 0.01))"
   ]
  },
  {
   "cell_type": "code",
   "execution_count": 12,
   "metadata": {},
   "outputs": [],
   "source": [
    "prev_pts = cv2.goodFeaturesToTrack(gray_image_previous, maxCorners=500, qualityLevel=0.01, minDistance=10)\n",
    "# Compute the optical flow using the Lucas-Kanade method\n",
    "curr_pts, status, err = cv2.calcOpticalFlowPyrLK(gray_image_previous, gray_image_after, prev_pts, None, **lk_params)\n",
    "# Select only the points that have a good optical flow estimation\n",
    "prev_pts = prev_pts[status == 1]\n",
    "curr_pts = curr_pts[status == 1]"
   ]
  },
  {
   "cell_type": "code",
   "execution_count": 13,
   "metadata": {},
   "outputs": [],
   "source": [
    "A, _ = cv2.estimateAffine2D(prev_pts, curr_pts, method=cv2.RANSAC, ransacReprojThreshold=5.0)"
   ]
  },
  {
   "cell_type": "code",
   "execution_count": 14,
   "metadata": {},
   "outputs": [
    {
     "data": {
      "text/plain": [
       "array([[ 0.97904168,  0.07238272, 19.60909877],\n",
       "       [ 0.096961  ,  0.80897027, 65.1938126 ]])"
      ]
     },
     "execution_count": 14,
     "metadata": {},
     "output_type": "execute_result"
    }
   ],
   "source": [
    "A"
   ]
  },
  {
   "cell_type": "code",
   "execution_count": null,
   "metadata": {},
   "outputs": [],
   "source": []
  }
 ],
 "metadata": {
  "kernelspec": {
   "display_name": "agrisort",
   "language": "python",
   "name": "python3"
  },
  "language_info": {
   "codemirror_mode": {
    "name": "ipython",
    "version": 3
   },
   "file_extension": ".py",
   "mimetype": "text/x-python",
   "name": "python",
   "nbconvert_exporter": "python",
   "pygments_lexer": "ipython3",
   "version": "3.12.6"
  }
 },
 "nbformat": 4,
 "nbformat_minor": 2
}
