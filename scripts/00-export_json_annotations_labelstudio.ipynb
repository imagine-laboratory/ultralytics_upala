{
 "cells": [
  {
   "cell_type": "code",
   "execution_count": 1,
   "metadata": {},
   "outputs": [],
   "source": [
    "from label_studio_sdk import Client\n",
    "ls = Client(url=\"http://localhost:8080\", api_key=\"68411c455d7a41893a506c2004903cde388daa02\")\n",
    "project = ls.get_project(\"52\")\n",
    "# Create an export snapshot with interpolation\n",
    "export = project.export_snapshot_create(title=\"Export with Interpolation\", interpolate_key_frames=True)\n",
    "export_snapshot = project.export_snapshot_download(export.get(\"id\"))"
   ]
  },
  {
   "cell_type": "code",
   "execution_count": null,
   "metadata": {},
   "outputs": [],
   "source": []
  }
 ],
 "metadata": {
  "kernelspec": {
   "display_name": "label-studio-env",
   "language": "python",
   "name": "python3"
  },
  "language_info": {
   "codemirror_mode": {
    "name": "ipython",
    "version": 3
   },
   "file_extension": ".py",
   "mimetype": "text/x-python",
   "name": "python",
   "nbconvert_exporter": "python",
   "pygments_lexer": "ipython3",
   "version": "3.12.0"
  }
 },
 "nbformat": 4,
 "nbformat_minor": 2
}
